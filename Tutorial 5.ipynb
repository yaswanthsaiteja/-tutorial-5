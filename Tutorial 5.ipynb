{
 "cells": [
  {
   "cell_type": "code",
   "execution_count": 1,
   "id": "536c2268-ea2f-445c-822f-262b888f51cd",
   "metadata": {},
   "outputs": [
    {
     "name": "stdout",
     "output_type": "stream",
     "text": [
      "[]\n"
     ]
    }
   ],
   "source": [
    "import re\n",
    "txt= \"the rain in spain\"\n",
    "x=re.findall(\"portugal\",txt)\n",
    "print(x)\n"
   ]
  },
  {
   "cell_type": "code",
   "execution_count": 74,
   "id": "ea64a3fe-c956-4bc9-ba09-eed7dba3675f",
   "metadata": {},
   "outputs": [
    {
     "name": "stdout",
     "output_type": "stream",
     "text": [
      "[' cat ']\n"
     ]
    }
   ],
   "source": [
    "import re \n",
    "txt= \"The cat sat on the mat. The dog barked at the cat. Cats and dogs live in harmony.\"\n",
    "x=re.findall(r'\\b cat \\b',txt)\n",
    "print(x)\n"
   ]
  },
  {
   "cell_type": "code",
   "execution_count": 70,
   "id": "0df958de-d955-414d-990c-cfde05c64992",
   "metadata": {},
   "outputs": [
    {
     "name": "stdout",
     "output_type": "stream",
     "text": [
      "the first white-space is located in position: 3\n"
     ]
    },
    {
     "name": "stderr",
     "output_type": "stream",
     "text": [
      "<>:3: SyntaxWarning: invalid escape sequence '\\s'\n",
      "<>:3: SyntaxWarning: invalid escape sequence '\\s'\n",
      "C:\\Users\\yaswa\\AppData\\Local\\Temp\\ipykernel_1604\\1871564338.py:3: SyntaxWarning: invalid escape sequence '\\s'\n",
      "  x =re.search(\"\\s\",txt)\n"
     ]
    }
   ],
   "source": [
    "import re\n",
    "text =\"the rain in spain\"\n",
    "x =re.search(\"\\s\",txt)\n",
    "print(\"the first white-space is located in position:\",x.start()) "
   ]
  },
  {
   "cell_type": "code",
   "execution_count": 80,
   "id": "10f4de75-7eca-4d8f-8507-b726840c6971",
   "metadata": {},
   "outputs": [
    {
     "name": "stdout",
     "output_type": "stream",
     "text": [
      "the first white-space is located in position: 3\n",
      "(3, 4)\n"
     ]
    },
    {
     "name": "stderr",
     "output_type": "stream",
     "text": [
      "<>:3: SyntaxWarning: invalid escape sequence '\\s'\n",
      "<>:3: SyntaxWarning: invalid escape sequence '\\s'\n",
      "C:\\Users\\yaswa\\AppData\\Local\\Temp\\ipykernel_1604\\4054656915.py:3: SyntaxWarning: invalid escape sequence '\\s'\n",
      "  x =re.search(\"\\s\",txt)\n"
     ]
    }
   ],
   "source": [
    "import re \n",
    "text =\"The cat sat on the mat. The dog barked at the cat. Cats and dogs live in harmony.\"\n",
    "x =re.search(\"\\s\",txt)\n",
    "print(\"the first white-space is located in position:\",x.start())\n",
    "print(x.span())"
   ]
  },
  {
   "cell_type": "code",
   "execution_count": 78,
   "id": "57104384-022f-48ca-9bf3-d50f88b01a95",
   "metadata": {},
   "outputs": [
    {
     "name": "stdout",
     "output_type": "stream",
     "text": [
      "['The', 'cat', 'sat on the mat. The dog barked at the cat. Cats and dogs live\\xa0in\\xa0harmony.']\n"
     ]
    },
    {
     "name": "stderr",
     "output_type": "stream",
     "text": [
      "<>:3: SyntaxWarning: invalid escape sequence '\\s'\n",
      "<>:3: SyntaxWarning: invalid escape sequence '\\s'\n",
      "C:\\Users\\yaswa\\AppData\\Local\\Temp\\ipykernel_1604\\1814217296.py:3: SyntaxWarning: invalid escape sequence '\\s'\n",
      "  x =re.split(\"\\s\",txt,2)\n"
     ]
    }
   ],
   "source": [
    "import re \n",
    "text =\"The cat sat on the mat. The dog barked at the cat. Cats and dogs live in harmony.\"\n",
    "x =re.split(\"\\s\",txt,2)\n",
    "print(x)"
   ]
  },
  {
   "cell_type": "code",
   "execution_count": 111,
   "id": "3f9415b5-3fee-44b2-b777-b31e07e5489f",
   "metadata": {},
   "outputs": [
    {
     "name": "stdout",
     "output_type": "stream",
     "text": [
      "[]\n"
     ]
    }
   ],
   "source": [
    "import re \n",
    "text = \"\"\"Contact us at support@example.com, sales@company.org, or admin@website.net.For more information, visit www.example.com.\"\"\"\n",
    "y =re.findall(\"Contact\",txt)\n",
    "print(y)\n"
   ]
  },
  {
   "cell_type": "code",
   "execution_count": null,
   "id": "539d591b-c819-48dc-b045-d6205f18ab1e",
   "metadata": {},
   "outputs": [],
   "source": []
  },
  {
   "cell_type": "code",
   "execution_count": null,
   "id": "5526b55c-e06b-4229-8843-58c7b8dd9b00",
   "metadata": {},
   "outputs": [],
   "source": []
  },
  {
   "cell_type": "code",
   "execution_count": null,
   "id": "2932ebd4-e9a2-4d6b-b7e0-016b643f570e",
   "metadata": {},
   "outputs": [],
   "source": []
  }
 ],
 "metadata": {
  "kernelspec": {
   "display_name": "Python 3 (ipykernel)",
   "language": "python",
   "name": "python3"
  },
  "language_info": {
   "codemirror_mode": {
    "name": "ipython",
    "version": 3
   },
   "file_extension": ".py",
   "mimetype": "text/x-python",
   "name": "python",
   "nbconvert_exporter": "python",
   "pygments_lexer": "ipython3",
   "version": "3.12.4"
  }
 },
 "nbformat": 4,
 "nbformat_minor": 5
}
